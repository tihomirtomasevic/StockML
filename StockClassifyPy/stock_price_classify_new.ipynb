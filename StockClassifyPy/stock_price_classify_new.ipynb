{
 "cells": [
  {
   "cell_type": "code",
   "execution_count": 105,
   "metadata": {
    "ExecuteTime": {
     "end_time": "2019-05-27T05:33:25.602530Z",
     "start_time": "2019-05-27T05:33:25.592367Z"
    }
   },
   "outputs": [],
   "source": [
    "import pandas as pd\n",
    "from pandas import DataFrame,Series\n",
    "import numpy as np\n",
    "import matplotlib.pyplot as plt\n",
    "import matplotlib.pyplot as plt\n",
    "%matplotlib inline\n",
    "\n",
    "#from tensorflow.keras.initializers import normal\n",
    "\n",
    "import os\n",
    "\n",
    "from statsmodels.tsa.arima_model import ARIMA\n",
    "from pandas_datareader import data as pdr\n",
    "import fix_yahoo_finance as yf\n",
    "from yahoo_fin.stock_info import *\n",
    "\n",
    "import matplotlib.pyplot as plt \n",
    "import matplotlib.dates as dates\n",
    "import matplotlib.ticker as mticker\n",
    "\n",
    "\n",
    "import datetime\n",
    "from datetime import datetime,timedelta\n",
    "import time\n",
    "from matplotlib.dates import date2num\n",
    "from pandas.tseries.offsets import Day,MonthEnd\n",
    "from pandas.tseries.offsets import Hour\n",
    "\n",
    "import warnings\n",
    "warnings.filterwarnings('ignore')\n",
    "\n",
    "yf.pdr_override()\n",
    "\n",
    "from sklearn.preprocessing import MinMaxScaler\n",
    "\n",
    "import tensorflow.keras\n",
    "from tensorflow.keras import layers\n",
    "from tensorflow.keras.callbacks import EarlyStopping,ModelCheckpoint,ReduceLROnPlateau\n",
    "\n",
    "from mxnet import nd, autograd, gluon\n",
    "from mxnet.gluon import nn, rnn\n",
    "import mxnet as mx\n",
    "\n",
    "\n",
    "import seaborn as sns\n",
    "\n",
    "from sklearn.decomposition import PCA\n",
    "\n",
    "import math\n",
    "from numpy.fft import *\n",
    "\n",
    "import matplotlib.dates as dates\n",
    "import matplotlib.ticker as mticker\n",
    "\n",
    "from sklearn.metrics import mean_squared_error\n",
    "from sklearn.preprocessing import StandardScaler\n",
    "\n",
    "import xgboost as xgb\n",
    "from sklearn.metrics import accuracy_score\n",
    "\n",
    "\n",
    "import re "
   ]
  },
  {
   "cell_type": "code",
   "execution_count": 106,
   "metadata": {
    "ExecuteTime": {
     "end_time": "2019-05-27T05:33:25.637311Z",
     "start_time": "2019-05-27T05:33:25.608065Z"
    }
   },
   "outputs": [],
   "source": [
    "def download(ticker,start,end,df): ## downloads the stock data from internet\n",
    "    try:\n",
    "        df=pdr.get_data_yahoo(ticker,start,end)\n",
    "    except ValueError:\n",
    "        pass\n",
    "    return df\n",
    "\n",
    "def to_supervised(df,n_in,n_out): ## transforms the dataframe to t-(n_in) values and adds the target in time t\n",
    "    n_vars=prices.shape[1]\n",
    "    cols, names = list(), list()\n",
    "    for i in range(n_in, 0, -1):\n",
    "        cols.append(df.shift(i))\n",
    "        names += [('var%d(t-%d)' % (j+1, i)) for j in range(n_vars)]\n",
    "    \n",
    "    for i in range(0, n_out):\n",
    "        cols.append(df.shift(-i))\n",
    "        if i == 0:\n",
    "            names += [('var%d(t)' % (j+1)) for j in range(n_vars)]\n",
    "        else:\n",
    "            names += [('var%d(t+%d)' % (j+1, i)) for j in range(n_vars)]\n",
    "            \n",
    "    agg = pd.concat(cols, axis=1)\n",
    "    agg.columns = names\n",
    "    agg.dropna(inplace=True)\n",
    "    df=agg\n",
    "    for i in range(n_in):\n",
    "        df=df.rename (columns= {\"var1(t-{})\".format(i+1): \"Open(t-{})\".format(i+1), \n",
    "                                  \"var2(t-{})\".format(i+1):\"High(t-{})\".format(i+1), \n",
    "                                  \"var3(t-{})\".format(i+1): \"Low(t-{})\".format(i+1),\n",
    "                                  \"var4(t-{})\".format(i+1): \"Close(t-{})\".format(i+1),\n",
    "                                  \"var5(t-{})\".format(i+1): \"Volume(t-{})\".format(i+1),\n",
    "                                  #\"var4(t)\": \"Close(t)\",\n",
    "                                   })\n",
    "    if(n_out==1):\n",
    "        df=df.rename (columns= {\"var4(t)\": \"Close(t)\"})\n",
    "        df.drop(['var1(t)','var2(t)','var3(t)','var5(t)'],axis=1,inplace=True)\n",
    "    else:\n",
    "        df.drop(['var1(t)','var2(t)','var3(t)','var4(t)','var5(t)'],axis=1,inplace=True)\n",
    "        df=df.rename (columns= {\"var4(t+{})\".format(n_out-1): \"Close(t+{})\".format(n_out-1)})\n",
    "        for i in range(n_out-1):\n",
    "            if((i+1)!=n_out-1):\n",
    "                df.drop(['var1(t+{})'.format(i+1),'var2(t+{})'.format(i+1),'var3(t+{})'.format(i+1),\n",
    "                        'var4(t+{})'.format(i+1),'var5(t+{})'.format(i+1)],axis=1,inplace=True)\n",
    "            else:\n",
    "                df.drop(['var1(t+{})'.format(i+1),'var2(t+{})'.format(i+1),'var3(t+{})'.format(i+1),\n",
    "                        'var5(t+{})'.format(i+1)],axis=1,inplace=True)\n",
    "                \n",
    "    return df\n",
    "\n",
    "def transform_features(df):\n",
    "    # reshape input to be [samples, time steps, features]\n",
    "    #passing data as features\n",
    "    \n",
    "    df.drop(['GS_Close(t)'],axis=1,inplace=True) \n",
    "    df.drop(['GS_High(t-1)','GS_Low(t-1)'],axis=1,inplace=True)\n",
    "\n",
    "    \n",
    "    df=np.array(df)\n",
    "    x_train=df[:len(df)-135,:-1]\n",
    "    y_train=df[:len(df)-135,-1]\n",
    "\n",
    "    Xtest=df[len(df)-135:,:-1]\n",
    "    ytest=df[len(df)-135:,-1]\n",
    "\n",
    "    y_train=y_train.reshape(-1,1)\n",
    "    ytest=ytest.reshape(-1,1)\n",
    "\n",
    "    scaler_x = MinMaxScaler()\n",
    "    scaler_x.fit(x_train)\n",
    "    x_train=scaler_x.transform(x_train)\n",
    "    Xtest=scaler_x.transform(Xtest)\n",
    "\n",
    "    scaler_y = MinMaxScaler()\n",
    "    scaler_y.fit(y_train)\n",
    "    y_train=scaler_y.transform(y_train)\n",
    "    ytest=scaler_y.transform(ytest)\n",
    "\n",
    "\n",
    "    x_train = x_train.reshape((x_train.shape[0], 1, x_train.shape[1]))\n",
    "    Xtest = Xtest.reshape((Xtest.shape[0], 1, Xtest.shape[1]))\n",
    "    return(x_train,y_train,Xtest,ytest,scaler_x,scaler_y)\n",
    "\n",
    "def transform_timesteps(df):\n",
    "    # reshape input to be [samples, time steps, features]\n",
    "    #passing data as timesteps\n",
    "    \n",
    "    df.drop(['GS_Close(t)'],axis=1,inplace=True)\n",
    "    df.drop(['GS_High(t-1)','GS_Low(t-1)'],axis=1,inplace=True)\n",
    "\n",
    "    df=np.array(df)\n",
    "    x_train=df[:len(df)-135,:-1]\n",
    "    y_train=df[:len(df)-135,-1]\n",
    "\n",
    "    Xtest=df[len(df)-135:,:-1]\n",
    "    ytest=df[len(df)-135:,-1]\n",
    "\n",
    "    y_train=y_train.reshape(-1,1)\n",
    "    ytest=ytest.reshape(-1,1)\n",
    "\n",
    "    scaler_x = MinMaxScaler()\n",
    "    scaler_x.fit(x_train)\n",
    "    x_train=scaler_x.transform(x_train)\n",
    "    Xtest=scaler_x.transform(Xtest)\n",
    "\n",
    "    scaler_y = MinMaxScaler()\n",
    "    scaler_y.fit(y_train)\n",
    "    y_train=scaler_y.transform(y_train)\n",
    "    ytest=scaler_y.transform(ytest)\n",
    "\n",
    "\n",
    "    x_train = x_train.reshape((x_train.shape[0],x_train.shape[1],1))\n",
    "    Xtest = Xtest.reshape((Xtest.shape[0],Xtest.shape[1],1))\n",
    "    return(x_train,y_train,Xtest,ytest,scaler_x,scaler_y)\n",
    "\n",
    "def MSE(actual,prediction):## Mean squared error function\n",
    "    return np.sum((actual-prediction)**2)/len(actual)\n",
    "\n",
    "def direction_gain(for_metric,open_price,all_predictions,actual_direction):\n",
    "    gain=[]\n",
    "    for i,j,k,l in zip(all_predictions,actual_direction,for_metric,open_price):\n",
    "        if i==j:\n",
    "            gain.append(np.abs(k-l))\n",
    "        if i!=j:\n",
    "            if j==0:\n",
    "                gain.append(l-k)\n",
    "            if j==1:\n",
    "                gain.append(k-l)  \n",
    "    return gain\n",
    "            \n",
    "def get_technical_indicators(dataset):\n",
    "    # Create 7 and 21 days Moving Average\n",
    "    dataset['ma7'] = dataset['GS_Close(t-1)'].rolling(window=7).mean()\n",
    "    dataset['ma21'] = dataset['GS_Close(t-1)'].rolling(window=21).mean()\n",
    "    \n",
    "    # Create MACD\n",
    "    dataset['26ema'] = dataset['GS_Close(t-1)'].ewm(span=26).mean()\n",
    "    dataset['12ema'] = dataset['GS_Close(t-1)'].ewm(span=12).mean()\n",
    "    dataset['MACD'] = (dataset['12ema']-dataset['26ema'])\n",
    "\n",
    "    # Create Bollinger Bands\n",
    "    dataset['20sd'] = dataset['GS_Close(t-1)'].rolling(20).std()\n",
    "    dataset['upper_band'] = dataset['ma21'] + (dataset['20sd']*2)\n",
    "    dataset['lower_band'] = dataset['ma21'] - (dataset['20sd']*2)\n",
    "    \n",
    "    # Create Exponential moving average\n",
    "    dataset['ema'] = dataset['GS_Close(t-1)'].ewm(com=0.5).mean()\n",
    "    \n",
    "    # Create Momentum\n",
    "    dataset['momentum'] = dataset['GS_Close(t-1)']-1\n",
    "    \n",
    "    \n",
    "    return dataset\n",
    "\n",
    "def filter_signal10(signal, threshold=1e3):\n",
    "    fourier = rfft(signal)\n",
    "    frequencies = rfftfreq(signal.size, d=10e-3/signal.size)  #change the number to change the plot\n",
    "    fourier[frequencies > threshold] = 0\n",
    "    return irfft(fourier)\n",
    "\n",
    "def filter_signal20(signal, threshold=1e3):\n",
    "    fourier = rfft(signal)\n",
    "    frequencies = rfftfreq(signal.size, d=30e-3/signal.size)  #change the number to change the plot\n",
    "    fourier[frequencies > threshold] = 0\n",
    "    return irfft(fourier)\n",
    "\n",
    "def filter_signal30(signal, threshold=1e3):\n",
    "    fourier = rfft(signal)\n",
    "    frequencies = rfftfreq(signal.size, d=20e-3/signal.size)  #change the number to change the plot\n",
    "    fourier[frequencies > threshold] = 0\n",
    "    return irfft(fourier)"
   ]
  },
  {
   "cell_type": "code",
   "execution_count": 107,
   "metadata": {
    "ExecuteTime": {
     "end_time": "2019-05-27T05:33:25.782413Z",
     "start_time": "2019-05-27T05:33:25.640257Z"
    }
   },
   "outputs": [
    {
     "data": {
      "text/html": [
       "<div>\n",
       "<style scoped>\n",
       "    .dataframe tbody tr th:only-of-type {\n",
       "        vertical-align: middle;\n",
       "    }\n",
       "\n",
       "    .dataframe tbody tr th {\n",
       "        vertical-align: top;\n",
       "    }\n",
       "\n",
       "    .dataframe thead th {\n",
       "        text-align: right;\n",
       "    }\n",
       "</style>\n",
       "<table border=\"1\" class=\"dataframe\">\n",
       "  <thead>\n",
       "    <tr style=\"text-align: right;\">\n",
       "      <th></th>\n",
       "      <th>GS_Open(t-1)</th>\n",
       "      <th>GS_High(t-1)</th>\n",
       "      <th>GS_Low(t-1)</th>\n",
       "      <th>GS_Close(t-1)</th>\n",
       "      <th>GS_Volume(t-1)</th>\n",
       "      <th>GS_Close(t)</th>\n",
       "    </tr>\n",
       "  </thead>\n",
       "  <tbody>\n",
       "    <tr>\n",
       "      <th>1</th>\n",
       "      <td>1348.410034</td>\n",
       "      <td>1368.680054</td>\n",
       "      <td>1346.489990</td>\n",
       "      <td>1368.680054</td>\n",
       "      <td>1363900.0</td>\n",
       "      <td>1361.520020</td>\n",
       "    </tr>\n",
       "    <tr>\n",
       "      <th>2</th>\n",
       "      <td>1348.000000</td>\n",
       "      <td>1373.750000</td>\n",
       "      <td>1347.319946</td>\n",
       "      <td>1361.520020</td>\n",
       "      <td>1170400.0</td>\n",
       "      <td>1397.810059</td>\n",
       "    </tr>\n",
       "    <tr>\n",
       "      <th>3</th>\n",
       "      <td>1351.630005</td>\n",
       "      <td>1398.319946</td>\n",
       "      <td>1351.000000</td>\n",
       "      <td>1397.810059</td>\n",
       "      <td>2338400.0</td>\n",
       "      <td>1395.109985</td>\n",
       "    </tr>\n",
       "    <tr>\n",
       "      <th>4</th>\n",
       "      <td>1400.459961</td>\n",
       "      <td>1403.500000</td>\n",
       "      <td>1391.560059</td>\n",
       "      <td>1395.109985</td>\n",
       "      <td>1716500.0</td>\n",
       "      <td>1405.040039</td>\n",
       "    </tr>\n",
       "    <tr>\n",
       "      <th>5</th>\n",
       "      <td>1394.819946</td>\n",
       "      <td>1411.849976</td>\n",
       "      <td>1392.630005</td>\n",
       "      <td>1405.040039</td>\n",
       "      <td>1765700.0</td>\n",
       "      <td>1419.790039</td>\n",
       "    </tr>\n",
       "  </tbody>\n",
       "</table>\n",
       "</div>"
      ],
      "text/plain": [
       "   GS_Open(t-1)  GS_High(t-1)  GS_Low(t-1)  GS_Close(t-1)  GS_Volume(t-1)  \\\n",
       "1   1348.410034   1368.680054  1346.489990    1368.680054       1363900.0   \n",
       "2   1348.000000   1373.750000  1347.319946    1361.520020       1170400.0   \n",
       "3   1351.630005   1398.319946  1351.000000    1397.810059       2338400.0   \n",
       "4   1400.459961   1403.500000  1391.560059    1395.109985       1716500.0   \n",
       "5   1394.819946   1411.849976  1392.630005    1405.040039       1765700.0   \n",
       "\n",
       "   GS_Close(t)  \n",
       "1  1361.520020  \n",
       "2  1397.810059  \n",
       "3  1395.109985  \n",
       "4  1405.040039  \n",
       "5  1419.790039  "
      ]
     },
     "execution_count": 107,
     "metadata": {},
     "output_type": "execute_result"
    }
   ],
   "source": [
    "#prices = get_data('GOOGL', start_date='2020-01-01') # year month day\n",
    "#print(prices)\n",
    "#prices.to_csv(\"all_stocks/GOOGL.csv\")\n",
    "prices=pd.read_csv(\"all_stocks/GOOGL.csv\")\n",
    "n_in=1\n",
    "n_out=1\n",
    "prices.drop(['Date','Adjclose','Ticker'],axis=1,inplace=True)\n",
    "prices=to_supervised(prices,n_in,n_out)\n",
    "names=[]\n",
    "for i in prices.columns:\n",
    "    names.append('GS_{}'.format(i))\n",
    "prices.columns=names\n",
    "prices.head()"
   ]
  },
  {
   "cell_type": "code",
   "execution_count": 108,
   "metadata": {
    "ExecuteTime": {
     "end_time": "2019-05-27T05:33:25.977834Z",
     "start_time": "2019-05-27T05:33:25.784765Z"
    }
   },
   "outputs": [],
   "source": [
    "for_metric=prices['GS_Close(t)']\n",
    "for_metric.drop(1,inplace=True)\n",
    "starting=prices['GS_Open(t-1)'].shift(-1).dropna()\n",
    "prices['direction']=1.0\n",
    "prices['direction'][prices['GS_Close(t-1)']>prices['GS_Close(t)']]=0.0\n",
    "direction=prices['direction']\n",
    "prices.drop(['direction'],axis=1,inplace=True)\n",
    "prices=prices.pct_change()\n",
    "prices['direction']=direction\n",
    "prices[prices>0]=1\n",
    "prices[prices<0]=0\n",
    "prices=prices.dropna()"
   ]
  },
  {
   "cell_type": "code",
   "execution_count": 109,
   "metadata": {
    "ExecuteTime": {
     "end_time": "2019-05-27T05:33:26.784578Z",
     "start_time": "2019-05-27T05:33:25.980111Z"
    }
   },
   "outputs": [],
   "source": [
    "Xtrain_f,ytrain_f,Xtest_f,ytest_f,scaler_x_f,scaler_y_f=transform_timesteps(prices)\n",
    "\n",
    "model_lstm = tensorflow.keras.models.Sequential()\n",
    "model_lstm.add(layers.LSTM(80, input_shape=(Xtrain_f.shape[1], Xtrain_f.shape[2]),return_sequences=True))\n",
    "model_lstm.add(layers.LSTM(50, input_shape=(Xtrain_f.shape[1], Xtrain_f.shape[2]),activation='tanh'))\n",
    "model_lstm.add(layers.Dense(1,activation='sigmoid'))\n",
    "opt=tensorflow.keras.optimizers.Adam(lr=0.01,epsilon=None,decay=0)\n",
    "model_lstm.compile(loss='binary_crossentropy', optimizer=opt)\n"
   ]
  },
  {
   "cell_type": "code",
   "execution_count": 110,
   "metadata": {
    "ExecuteTime": {
     "end_time": "2019-05-27T05:33:27.526900Z",
     "start_time": "2019-05-27T05:33:26.786957Z"
    }
   },
   "outputs": [],
   "source": [
    "#model_lstm.load_weights('classification_lstm_2.hdf5')\n",
    "trainPredict_f=model_lstm.predict(Xtrain_f)\n",
    "testPredict_f= model_lstm.predict(Xtest_f)\n",
    "\n",
    "all_predictions_f=[]\n",
    "all_predictions_decimal=[]\n",
    "trainPredict_f=scaler_y_f.inverse_transform(trainPredict_f)\n",
    "testPredict_f=scaler_y_f.inverse_transform(testPredict_f)\n",
    "all_predictions_decimal=np.append(trainPredict_f,testPredict_f)\n",
    "all_predictions_f=all_predictions_decimal\n",
    "all_predictions_f[all_predictions_f>0.5]=1\n",
    "all_predictions_f[all_predictions_f<=0.5]=0"
   ]
  },
  {
   "cell_type": "code",
   "execution_count": 111,
   "metadata": {
    "ExecuteTime": {
     "end_time": "2019-05-27T05:33:27.541674Z",
     "start_time": "2019-05-27T05:33:27.530020Z"
    }
   },
   "outputs": [
    {
     "name": "stdout",
     "output_type": "stream",
     "text": [
      "Gain for train and test : 11068.411010742188\n",
      "Gain for test only: 5183.77001953125\n"
     ]
    }
   ],
   "source": [
    "gainz=direction_gain(for_metric,starting,all_predictions_f,direction)\n",
    "print(\"Gain for train and test :\",np.sum(gainz))\n",
    "print(\"Gain for test only:\",np.sum(gainz[300:]))"
   ]
  },
  {
   "cell_type": "code",
   "execution_count": 112,
   "metadata": {
    "ExecuteTime": {
     "end_time": "2019-05-27T05:33:27.555191Z",
     "start_time": "2019-05-27T05:33:27.544887Z"
    }
   },
   "outputs": [],
   "source": [
    "for_plotting=pd.DataFrame(for_metric)\n",
    "for_plotting['prediction']=all_predictions_f\n",
    "for_plotting['direction']=prices['direction']\n"
   ]
  },
  {
   "cell_type": "code",
   "execution_count": 113,
   "metadata": {
    "ExecuteTime": {
     "end_time": "2019-05-27T05:33:29.080797Z",
     "start_time": "2019-05-27T05:33:27.558311Z"
    }
   },
   "outputs": [],
   "source": [
    "pos_plot=for_plotting['GS_Close(t)'][for_plotting['direction']==for_plotting['prediction']]\n",
    "pos_plot=pos_plot.T\n",
    "for i in range(1000):\n",
    "    if i not in pos_plot.index:\n",
    "        pos_plot[i]=np.nan\n",
    "        \n",
    "pos_plot=pos_plot.sort_index()\n",
    "\n",
    "neg_plot=for_plotting['GS_Close(t)'][for_plotting['direction']!=for_plotting['prediction']]\n",
    "neg_plot=neg_plot.T\n",
    "for i in range(1000):\n",
    "    if i not in neg_plot.index:\n",
    "        neg_plot[i]=np.nan\n",
    "        \n",
    "neg_plot=neg_plot.sort_index()"
   ]
  },
  {
   "cell_type": "code",
   "execution_count": 114,
   "metadata": {
    "ExecuteTime": {
     "end_time": "2019-05-27T05:33:30.479746Z",
     "start_time": "2019-05-27T05:33:29.083316Z"
    },
    "scrolled": false
   },
   "outputs": [
    {
     "data": {
      "text/plain": [
       "<matplotlib.lines.Line2D at 0x15786cddac8>"
      ]
     },
     "execution_count": 114,
     "metadata": {},
     "output_type": "execute_result"
    },
    {
     "data": {
      "image/png": "[encoded data removed]",
      "text/plain": [
       "<Figure size 2160x1440 with 1 Axes>"
      ]
     },
     "metadata": {
      "needs_background": "light"
     },
     "output_type": "display_data"
    }
   ],
   "source": [
    "plt.figure(figsize=(30,20))\n",
    "plt.plot(for_plotting['GS_Close(t)'],'r')\n",
    "plt.plot(pos_plot,'g')\n",
    "plt.axvline(x=300,color='k')"
   ]
  },
  {
   "cell_type": "code",
   "execution_count": 115,
   "metadata": {
    "ExecuteTime": {
     "end_time": "2019-05-27T05:37:05.498371Z",
     "start_time": "2019-05-27T05:37:05.486812Z"
    }
   },
   "outputs": [
    {
     "data": {
      "text/plain": [
       "0    0.835\n",
       "dtype: float64"
      ]
     },
     "execution_count": 115,
     "metadata": {},
     "output_type": "execute_result"
    }
   ],
   "source": [
    "#accuracy of the days that we predicted right\n",
    "gain_acc = pd.DataFrame(gainz[300:])\n",
    "right_days = gain_acc[gain_acc>0].count()\n",
    "accuracy = right_days/len(gain_acc)\n",
    "accuracy"
   ]
  },
  {
   "cell_type": "code",
   "execution_count": 116,
   "metadata": {
    "ExecuteTime": {
     "end_time": "2019-05-27T05:50:53.251195Z",
     "start_time": "2019-05-27T05:50:53.246630Z"
    }
   },
   "outputs": [
    {
     "data": {
      "text/plain": [
       "868.710205078125"
      ]
     },
     "execution_count": 116,
     "metadata": {},
     "output_type": "execute_result"
    }
   ],
   "source": [
    "#the gain of the stock at the time of testing\n",
    "np.abs(starting[300]-starting[500])"
   ]
  },
  {
   "cell_type": "code",
   "execution_count": null,
   "metadata": {},
   "outputs": [],
   "source": []
  }
 ],
 "metadata": {
  "kernelspec": {
   "display_name": "Python 3",
   "language": "python",
   "name": "python3"
  },
  "language_info": {
   "codemirror_mode": {
    "name": "ipython",
    "version": 3
   },
   "file_extension": ".py",
   "mimetype": "text/x-python",
   "name": "python",
   "nbconvert_exporter": "python",
   "pygments_lexer": "ipython3",
   "version": "3.7.9"
  },
  "latex_envs": {
   "LaTeX_envs_menu_present": true,
   "autoclose": false,
   "autocomplete": true,
   "bibliofile": "biblio.bib",
   "cite_by": "apalike",
   "current_citInitial": 1,
   "eqLabelWithNumbers": true,
   "eqNumInitial": 1,
   "hotkeys": {
    "equation": "Ctrl-E",
    "itemize": "Ctrl-I"
   },
   "labels_anchors": false,
   "latex_user_defs": false,
   "report_style_numbering": false,
   "user_envs_cfg": false
  },
  "toc": {
   "base_numbering": 1,
   "nav_menu": {},
   "number_sections": true,
   "sideBar": true,
   "skip_h1_title": false,
   "title_cell": "Table of Contents",
   "title_sidebar": "Contents",
   "toc_cell": false,
   "toc_position": {},
   "toc_section_display": true,
   "toc_window_display": false
  },
  "varInspector": {
   "cols": {
    "lenName": 16,
    "lenType": 16,
    "lenVar": 40
   },
   "kernels_config": {
    "python": {
     "delete_cmd_postfix": "",
     "delete_cmd_prefix": "del ",
     "library": "var_list.py",
     "varRefreshCmd": "print(var_dic_list())"
    },
    "r": {
     "delete_cmd_postfix": ") ",
     "delete_cmd_prefix": "rm(",
     "library": "var_list.r",
     "varRefreshCmd": "cat(var_dic_list()) "
    }
   },
   "types_to_exclude": [
    "module",
    "function",
    "builtin_function_or_method",
    "instance",
    "_Feature"
   ],
   "window_display": false
  }
 },
 "nbformat": 4,
 "nbformat_minor": 2
}
